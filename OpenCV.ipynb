{
  "nbformat": 4,
  "nbformat_minor": 0,
  "metadata": {
    "colab": {
      "name": "OpenCV.ipynb",
      "version": "0.3.2",
      "provenance": []
    },
    "kernelspec": {
      "name": "python3",
      "display_name": "Python 3"
    }
  },
  "cells": [
    {
      "cell_type": "code",
      "metadata": {
        "id": "ouKz_CfxFe0A",
        "colab_type": "code",
        "colab": {}
      },
      "source": [
        "from fastai.vision import *"
      ],
      "execution_count": 0,
      "outputs": []
    },
    {
      "cell_type": "code",
      "metadata": {
        "id": "5ExikaN9R5Rv",
        "colab_type": "code",
        "colab": {}
      },
      "source": [
        "folder = 'test'\n",
        "file = 'image.csv'"
      ],
      "execution_count": 0,
      "outputs": []
    },
    {
      "cell_type": "code",
      "metadata": {
        "id": "d_enXkRpFhrv",
        "colab_type": "code",
        "outputId": "18ebc645-5fe9-4330-b1d6-a1f0fc943a6f",
        "colab": {
          "base_uri": "https://localhost:8080/",
          "height": 34
        }
      },
      "source": [
        "from google.colab import drive\n",
        "drive.mount('/content/gdrive', force_remount=True)\n",
        "root_dir = \"/content/gdrive/My Drive/\"\n",
        "base_dir = root_dir + 'OCV/data/'"
      ],
      "execution_count": 0,
      "outputs": [
        {
          "output_type": "stream",
          "text": [
            "Mounted at /content/gdrive\n"
          ],
          "name": "stdout"
        }
      ]
    },
    {
      "cell_type": "code",
      "metadata": {
        "id": "zByzxzDwFs6G",
        "colab_type": "code",
        "colab": {}
      },
      "source": [
        "path = Path(base_dir)\n",
        "dest = path/folder\n",
        "dest.mkdir(parents=True, exist_ok=True)"
      ],
      "execution_count": 0,
      "outputs": []
    },
    {
      "cell_type": "code",
      "metadata": {
        "id": "w4Haw_DdGSi5",
        "colab_type": "code",
        "outputId": "50dc1983-a93d-4882-8bff-3bef6be5a53c",
        "colab": {
          "base_uri": "https://localhost:8080/",
          "height": 34
        }
      },
      "source": [
        "path.ls()"
      ],
      "execution_count": 0,
      "outputs": [
        {
          "output_type": "execute_result",
          "data": {
            "text/plain": [
              "[PosixPath('/content/gdrive/My Drive/OCV/data/test')]"
            ]
          },
          "metadata": {
            "tags": []
          },
          "execution_count": 13
        }
      ]
    },
    {
      "cell_type": "code",
      "metadata": {
        "id": "BVzp2cCLICR9",
        "colab_type": "code",
        "colab": {}
      },
      "source": [
        "download_images(path/file, dest, max_pics=200)"
      ],
      "execution_count": 0,
      "outputs": []
    },
    {
      "cell_type": "code",
      "metadata": {
        "id": "PXZb94ueJYQ4",
        "colab_type": "code",
        "colab": {}
      },
      "source": [
        "mport numpy as np\n",
        "import matplotlib.pyplot as plt\n",
        "import cv2\n",
        "%matplotlib inline\n",
        "\n",
        "ID = '.......'\n",
        "FILE = \"../.../..."
      ],
      "execution_count": 0,
      "outputs": []
    },
    {
      "cell_type": "markdown",
      "metadata": {
        "id": "UQSc5etCLpTn",
        "colab_type": "text"
      },
      "source": [
        "Read the image and find appropriate filter settings"
      ]
    },
    {
      "cell_type": "code",
      "metadata": {
        "id": "Jff0zA8DJZ35",
        "colab_type": "code",
        "colab": {}
      },
      "source": [
        "  mg = cv2.imread(FILE,0)\n",
        "\n",
        "# Otsu's thresholding after Gaussian filtering\n",
        "blur = cv2.GaussianBlur(img,(5,5),0)\n",
        "ret3,th3 = cv2.threshold(blur,0,255,cv2.THRESH_BINARY+cv2.THRESH_OTSU)\n"
      ],
      "execution_count": 0,
      "outputs": []
    },
    {
      "cell_type": "markdown",
      "metadata": {
        "id": "C-u8I3oVL6x3",
        "colab_type": "text"
      },
      "source": [
        "filtering process¶"
      ]
    },
    {
      "cell_type": "code",
      "metadata": {
        "id": "527TRvG8LIP1",
        "colab_type": "code",
        "colab": {}
      },
      "source": [
        "\n",
        "plt.figure(figsize=(15,5))\n",
        "images = [blur, 0, th3]\n",
        "titles = ['Gaussian filtered Image','Histogram',\"Otsu's Thresholding\"]\n",
        "plt.subplot(1,3,1),plt.imshow(images[0],'gray')\n",
        "plt.title(titles[0]), plt.xticks([]), plt.yticks([])\n",
        "plt.subplot(1,3,2),plt.hist(images[0].ravel(),256)\n",
        "plt.title(titles[1]), plt.xticks([]), plt.yticks([])\n",
        "plt.subplot(1,3,3),plt.imshow(images[2],'gray')\n",
        "plt.title(titles[2]), plt.xticks([]), plt.yticks([])"
      ],
      "execution_count": 0,
      "outputs": []
    },
    {
      "cell_type": "markdown",
      "metadata": {
        "id": "-PiuMsFRMLd1",
        "colab_type": "text"
      },
      "source": [
        "Count the number of contours in the filtered image"
      ]
    },
    {
      "cell_type": "code",
      "metadata": {
        "id": "7keyoBMyMMrR",
        "colab_type": "code",
        "colab": {}
      },
      "source": [
        "im = cv2.imread(FILE)\n",
        "imgray = cv2.cvtColor(im,cv2.COLOR_BGR2GRAY)\n",
        "ret,thresh = cv2.threshold(img,0,255,cv2.THRESH_BINARY+cv2.THRESH_OTSU)\n",
        "image, contours, hierarchy = cv2.findContours(thresh,cv2.RETR_TREE,cv2.CHAIN_APPROX_SIMPLE)\n",
        "img = cv2.drawContours(img, contours, -1, (255,255,255), 3)\n",
        "plt.figure(figsize=(10,10))\n",
        "plt.subplot(1,2,1),plt.title('Original Image'),plt.imshow(im)#,'red')\n",
        "plt.subplot(1,2,2),plt.title('OpenCV.findContours'),plt.imshow(img,'gray')#,'red')\n",
        "\n",
        "print('number of detected contours: ',len(contours))"
      ],
      "execution_count": 0,
      "outputs": []
    }
  ]
}